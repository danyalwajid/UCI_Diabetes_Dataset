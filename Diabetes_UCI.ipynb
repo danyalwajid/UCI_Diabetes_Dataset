{
 "cells": [
  {
   "cell_type": "markdown",
   "metadata": {},
   "source": [
    "### Diabetes_UCI"
   ]
  },
  {
   "cell_type": "markdown",
   "metadata": {},
   "source": [
    "Keras is a powerful easy-to-use Python library for developing and evaluating deep learning models.\n",
    "\n",
    "It wraps the efficient numerical computation libraries Theano and TensorFlow and allows you to define and train neural network models in a few short lines of code.\n",
    "\n",
    "Here we will create our first neural network model in Python using Keras. Let’s get started.\n",
    "\n",
    "Steps involved are:\n",
    "\n",
    "Load Data...\n",
    "Define Model...\n",
    "Compile Model...\n",
    "Fit Model...\n",
    "Make Predictions..."
   ]
  },
  {
   "cell_type": "markdown",
   "metadata": {},
   "source": [
    "### Load Data"
   ]
  },
  {
   "cell_type": "markdown",
   "metadata": {},
   "source": [
    "This is a standard machine learning dataset from the UCI Machine Learning repository. It describes patient medical record data for Pima Indians and whether they had an onset of diabetes within five years.\n",
    "\n",
    "As such, it is a binary classification problem (onset of diabetes as 1 or not as 0). All of the input variables that describe each patient are numerical. This makes it easy to use directly with neural networks that expect numerical input and output values, and ideal for our first neural network in Keras."
   ]
  },
  {
   "cell_type": "code",
   "execution_count": 1,
   "metadata": {},
   "outputs": [],
   "source": [
    "from keras.models import Sequential\n",
    "from keras.layers import Dense\n",
    "import numpy as np\n",
    "import pandas as pd"
   ]
  },
  {
   "cell_type": "code",
   "execution_count": 2,
   "metadata": {},
   "outputs": [],
   "source": [
    "df = pd.read_csv('1.csv')\n",
    "X = df.iloc[:,0:8]\n",
    "y = df.iloc[:,8]"
   ]
  },
  {
   "cell_type": "code",
   "execution_count": 3,
   "metadata": {},
   "outputs": [
    {
     "name": "stdout",
     "output_type": "stream",
     "text": [
      "Dataset Shape (767, 9)\n",
      "Number of Samples 767\n"
     ]
    }
   ],
   "source": [
    "print(\"Dataset Shape\", df.shape)\n",
    "print(\"Number of Samples\", len(X))\n",
    "# print(\"Number of Features\", len(X[0]))"
   ]
  },
  {
   "cell_type": "markdown",
   "metadata": {},
   "source": [
    "### Training Testing Split "
   ]
  },
  {
   "cell_type": "code",
   "execution_count": 4,
   "metadata": {},
   "outputs": [
    {
     "name": "stdout",
     "output_type": "stream",
     "text": [
      "Training Samples:  690\n",
      "Test Samples:  77\n"
     ]
    }
   ],
   "source": [
    "from sklearn.model_selection import train_test_split\n",
    "X_train, X_test, Y_train, Y_test = train_test_split(X,y,test_size=0.1,random_state=5)\n",
    "print(\"Training Samples: \", len(X_train))\n",
    "print(\"Test Samples: \", len(X_test))"
   ]
  },
  {
   "cell_type": "markdown",
   "metadata": {},
   "source": [
    "### Define Model"
   ]
  },
  {
   "cell_type": "markdown",
   "metadata": {},
   "source": [
    "\n",
    "Define Model\n",
    "Models in Keras are defined as a sequence of layers.\n",
    "\n",
    "We create a Sequential model and add layers one at a time until we are happy with our network topology.\n",
    "\n",
    "The first thing to get right is to ensure the input layer has the right number of inputs. This can be specified when creating the first layer with the input_dim argument and setting it to 8 for the 8 input variables.\n",
    "\n",
    "How do we know the number of layers and their types?\n",
    "\n",
    "This is a very hard question. There are heuristics that we can use and often the best network structure is found through a process of trial and error experimentation. Generally, you need a network large enough to capture the structure of the problem if that helps at all.\n",
    "\n",
    "In this example, we will use a fully-connected network structure with three layers.\n",
    "\n",
    "Fully connected layers are defined using the Dense class. We can specify the number of neurons in the layer as the first argument, the initialization method as the second argument as init and specify the activation function using the activation argument.\n",
    "\n",
    "In this case, we initialize the network weights to a small random number generated from a uniform distribution ('uniform'), in this case between 0 and 0.05 because that is the default uniform weight initialization in Keras. Another traditional alternative would be 'normal' for small random numbers generated from a Gaussian distribution.\n",
    "\n",
    "We will use the rectifier ('relu') activation function on the first two layers and the sigmoid function in the output layer. It used to be the case that sigmoid and tanh activation functions were preferred for all layers. These days, better performance is achieved using the rectifier activation function. We use a sigmoid on the output layer to ensure our network output is between 0 and 1 and easy to map to either a probability of class 1 or snap to a hard classification of either class with a default threshold of 0.5."
   ]
  },
  {
   "cell_type": "code",
   "execution_count": 7,
   "metadata": {},
   "outputs": [],
   "source": [
    "model = Sequential()\n",
    "model.add(Dense(32,input_dim=8, activation= 'relu'))\n",
    "model.add(Dense(64, activation = 'relu'))\n",
    "model.add(Dense(8, activation = 'relu'))\n",
    "model.add(Dense(1,activation='sigmoid'))"
   ]
  },
  {
   "cell_type": "markdown",
   "metadata": {},
   "source": [
    "### Compile Model"
   ]
  },
  {
   "cell_type": "markdown",
   "metadata": {},
   "source": [
    "Now that the model is defined, we can compile it.\n",
    "\n",
    "Compiling the model uses the efficient numerical libraries under the covers (the so-called backend) such as Theano or TensorFlow. The backend automatically chooses the best way to represent the network for training and making predictions to run on your hardware, such as CPU or GPU or even distributed.\n",
    "\n",
    "When compiling, we must specify some additional properties required when training the network. Remember training a network means finding the best set of weights to make predictions for this problem.\n",
    "\n",
    "We must specify the loss function to use to evaluate a set of weights, the optimizer used to search through different weights for the network and any optional metrics we would like to collect and report during training.\n",
    "\n",
    "In this case, we will use logarithmic loss, which for a binary classification problem is defined in Keras as \"binary_crossentropy\". We will also use the efficient gradient descent algorithm \"adam\" for no other reason that it is an efficient default.\n",
    "\n",
    "Finally, because it is a classification problem, we will collect and report the classification accuracy as the metric."
   ]
  },
  {
   "cell_type": "code",
   "execution_count": 8,
   "metadata": {},
   "outputs": [],
   "source": [
    "model.compile(loss='binary_crossentropy', optimizer='adam', metrics=['accuracy'])"
   ]
  },
  {
   "cell_type": "markdown",
   "metadata": {},
   "source": [
    "### Fit Model"
   ]
  },
  {
   "cell_type": "markdown",
   "metadata": {},
   "source": [
    "We have defined our model and compiled it ready for efficient computation.\n",
    "\n",
    "Now it is time to execute the model on some data.\n",
    "\n",
    "We can train or fit our model on our loaded data by calling the fit() function on the model.\n",
    "\n",
    "The training process will run for a fixed number of iterations through the dataset called epochs, that we must specify using the nb_epoch argument. We can also set the number of instances that are evaluated before a weight update in the network is performed, called the batch size and set using the batch_size argument."
   ]
  },
  {
   "cell_type": "code",
   "execution_count": 13,
   "metadata": {
    "scrolled": true
   },
   "outputs": [
    {
     "name": "stdout",
     "output_type": "stream",
     "text": [
      "Epoch 1/150\n",
      "69/69 [==============================] - 0s 1ms/step - loss: 0.0410 - accuracy: 0.9841\n",
      "Epoch 2/150\n",
      "69/69 [==============================] - 0s 1ms/step - loss: 0.0390 - accuracy: 0.9855\n",
      "Epoch 3/150\n",
      "69/69 [==============================] - 0s 996us/step - loss: 0.0382 - accuracy: 0.9855\n",
      "Epoch 4/150\n",
      "69/69 [==============================] - 0s 1ms/step - loss: 0.0916 - accuracy: 0.9739\n",
      "Epoch 5/150\n",
      "69/69 [==============================] - 0s 1ms/step - loss: 0.1119 - accuracy: 0.9478\n",
      "Epoch 6/150\n",
      "69/69 [==============================] - 0s 1ms/step - loss: 0.1348 - accuracy: 0.9449\n",
      "Epoch 7/150\n",
      "69/69 [==============================] - 0s 1ms/step - loss: 0.1391 - accuracy: 0.9565\n",
      "Epoch 8/150\n",
      "69/69 [==============================] - 0s 1ms/step - loss: 0.1119 - accuracy: 0.9623\n",
      "Epoch 9/150\n",
      "69/69 [==============================] - 0s 1ms/step - loss: 0.0938 - accuracy: 0.9696\n",
      "Epoch 10/150\n",
      "69/69 [==============================] - 0s 1ms/step - loss: 0.0545 - accuracy: 0.9768\n",
      "Epoch 11/150\n",
      "69/69 [==============================] - 0s 1ms/step - loss: 0.0400 - accuracy: 0.9855\n",
      "Epoch 12/150\n",
      "69/69 [==============================] - 0s 1ms/step - loss: 0.0355 - accuracy: 0.9884\n",
      "Epoch 13/150\n",
      "69/69 [==============================] - 0s 1ms/step - loss: 0.0354 - accuracy: 0.9884\n",
      "Epoch 14/150\n",
      "69/69 [==============================] - 0s 1ms/step - loss: 0.0402 - accuracy: 0.9841\n",
      "Epoch 15/150\n",
      "69/69 [==============================] - 0s 1ms/step - loss: 0.0384 - accuracy: 0.9855\n",
      "Epoch 16/150\n",
      "69/69 [==============================] - 0s 1ms/step - loss: 0.0381 - accuracy: 0.9855\n",
      "Epoch 17/150\n",
      "69/69 [==============================] - 0s 1ms/step - loss: 0.0395 - accuracy: 0.9841\n",
      "Epoch 18/150\n",
      "69/69 [==============================] - 0s 1ms/step - loss: 0.0418 - accuracy: 0.9841\n",
      "Epoch 19/150\n",
      "69/69 [==============================] - 0s 1ms/step - loss: 0.0471 - accuracy: 0.9855\n",
      "Epoch 20/150\n",
      "69/69 [==============================] - 0s 1ms/step - loss: 0.0568 - accuracy: 0.9768\n",
      "Epoch 21/150\n",
      "69/69 [==============================] - 0s 1ms/step - loss: 0.0643 - accuracy: 0.9739\n",
      "Epoch 22/150\n",
      "69/69 [==============================] - 0s 1ms/step - loss: 0.0585 - accuracy: 0.9754\n",
      "Epoch 23/150\n",
      "69/69 [==============================] - 0s 993us/step - loss: 0.0526 - accuracy: 0.9768\n",
      "Epoch 24/150\n",
      "69/69 [==============================] - 0s 1ms/step - loss: 0.0481 - accuracy: 0.9783\n",
      "Epoch 25/150\n",
      "69/69 [==============================] - 0s 1ms/step - loss: 0.0566 - accuracy: 0.9754\n",
      "Epoch 26/150\n",
      "69/69 [==============================] - 0s 1ms/step - loss: 0.0425 - accuracy: 0.9855\n",
      "Epoch 27/150\n",
      "69/69 [==============================] - 0s 1ms/step - loss: 0.0682 - accuracy: 0.9783\n",
      "Epoch 28/150\n",
      "69/69 [==============================] - 0s 999us/step - loss: 0.0383 - accuracy: 0.9855\n",
      "Epoch 29/150\n",
      "69/69 [==============================] - 0s 1ms/step - loss: 0.0361 - accuracy: 0.9870\n",
      "Epoch 30/150\n",
      "69/69 [==============================] - 0s 1ms/step - loss: 0.0382 - accuracy: 0.9870\n",
      "Epoch 31/150\n",
      "69/69 [==============================] - 0s 1ms/step - loss: 0.0340 - accuracy: 0.9884\n",
      "Epoch 32/150\n",
      "69/69 [==============================] - 0s 1ms/step - loss: 0.0326 - accuracy: 0.9884\n",
      "Epoch 33/150\n",
      "69/69 [==============================] - 0s 1ms/step - loss: 0.0318 - accuracy: 0.9884\n",
      "Epoch 34/150\n",
      "69/69 [==============================] - 0s 1ms/step - loss: 0.0317 - accuracy: 0.9884\n",
      "Epoch 35/150\n",
      "69/69 [==============================] - 0s 1ms/step - loss: 0.0316 - accuracy: 0.9884\n",
      "Epoch 36/150\n",
      "69/69 [==============================] - 0s 1ms/step - loss: 0.0315 - accuracy: 0.9884\n",
      "Epoch 37/150\n",
      "69/69 [==============================] - 0s 1ms/step - loss: 0.0311 - accuracy: 0.9884\n",
      "Epoch 38/150\n",
      "69/69 [==============================] - 0s 1ms/step - loss: 0.0310 - accuracy: 0.9884\n",
      "Epoch 39/150\n",
      "69/69 [==============================] - 0s 1ms/step - loss: 0.0311 - accuracy: 0.9884\n",
      "Epoch 40/150\n",
      "69/69 [==============================] - 0s 1ms/step - loss: 0.0308 - accuracy: 0.9884\n",
      "Epoch 41/150\n",
      "69/69 [==============================] - 0s 1ms/step - loss: 0.0324 - accuracy: 0.9884\n",
      "Epoch 42/150\n",
      "69/69 [==============================] - 0s 1ms/step - loss: 0.0321 - accuracy: 0.9884\n",
      "Epoch 43/150\n",
      "69/69 [==============================] - 0s 1ms/step - loss: 0.0311 - accuracy: 0.9884\n",
      "Epoch 44/150\n",
      "69/69 [==============================] - 0s 1ms/step - loss: 0.0308 - accuracy: 0.9884\n",
      "Epoch 45/150\n",
      "69/69 [==============================] - 0s 1ms/step - loss: 0.1419 - accuracy: 0.9652\n",
      "Epoch 46/150\n",
      "69/69 [==============================] - 0s 1ms/step - loss: 0.6488 - accuracy: 0.8435\n",
      "Epoch 47/150\n",
      "69/69 [==============================] - 0s 1ms/step - loss: 0.4383 - accuracy: 0.8551\n",
      "Epoch 48/150\n",
      "69/69 [==============================] - 0s 1ms/step - loss: 0.1729 - accuracy: 0.9261\n",
      "Epoch 49/150\n",
      "69/69 [==============================] - 0s 1ms/step - loss: 0.1243 - accuracy: 0.9464\n",
      "Epoch 50/150\n",
      "69/69 [==============================] - 0s 1ms/step - loss: 0.0975 - accuracy: 0.9536\n",
      "Epoch 51/150\n",
      "69/69 [==============================] - 0s 1ms/step - loss: 0.0534 - accuracy: 0.9812\n",
      "Epoch 52/150\n",
      "69/69 [==============================] - 0s 1ms/step - loss: 0.0690 - accuracy: 0.9754\n",
      "Epoch 53/150\n",
      "69/69 [==============================] - 0s 1ms/step - loss: 0.0610 - accuracy: 0.9768\n",
      "Epoch 54/150\n",
      "69/69 [==============================] - 0s 1ms/step - loss: 0.0469 - accuracy: 0.9841\n",
      "Epoch 55/150\n",
      "69/69 [==============================] - 0s 1ms/step - loss: 0.0425 - accuracy: 0.9855\n",
      "Epoch 56/150\n",
      "69/69 [==============================] - 0s 1ms/step - loss: 0.0478 - accuracy: 0.9826\n",
      "Epoch 57/150\n",
      "69/69 [==============================] - 0s 1ms/step - loss: 0.0574 - accuracy: 0.9768\n",
      "Epoch 58/150\n",
      "69/69 [==============================] - 0s 1ms/step - loss: 0.0479 - accuracy: 0.9812\n",
      "Epoch 59/150\n",
      "69/69 [==============================] - 0s 1ms/step - loss: 0.0466 - accuracy: 0.9826\n",
      "Epoch 60/150\n",
      "69/69 [==============================] - 0s 1ms/step - loss: 0.0495 - accuracy: 0.9826\n",
      "Epoch 61/150\n",
      "69/69 [==============================] - 0s 1ms/step - loss: 0.0432 - accuracy: 0.9855\n",
      "Epoch 62/150\n",
      "69/69 [==============================] - 0s 1ms/step - loss: 0.0467 - accuracy: 0.9812\n",
      "Epoch 63/150\n",
      "69/69 [==============================] - 0s 1ms/step - loss: 0.0545 - accuracy: 0.9826\n",
      "Epoch 64/150\n",
      "69/69 [==============================] - 0s 1ms/step - loss: 0.0772 - accuracy: 0.9652\n",
      "Epoch 65/150\n",
      "69/69 [==============================] - 0s 1ms/step - loss: 0.0975 - accuracy: 0.9710\n",
      "Epoch 66/150\n",
      "69/69 [==============================] - 0s 1ms/step - loss: 0.0503 - accuracy: 0.9826\n",
      "Epoch 67/150\n",
      "69/69 [==============================] - 0s 1ms/step - loss: 0.0495 - accuracy: 0.9812\n",
      "Epoch 68/150\n",
      "69/69 [==============================] - 0s 1ms/step - loss: 0.0394 - accuracy: 0.9855\n",
      "Epoch 69/150\n",
      "69/69 [==============================] - 0s 1ms/step - loss: 0.0389 - accuracy: 0.9855\n",
      "Epoch 70/150\n",
      "69/69 [==============================] - 0s 1ms/step - loss: 0.0383 - accuracy: 0.9855\n",
      "Epoch 71/150\n",
      "69/69 [==============================] - 0s 1ms/step - loss: 0.0415 - accuracy: 0.9841\n",
      "Epoch 72/150\n",
      "69/69 [==============================] - 0s 1ms/step - loss: 0.0374 - accuracy: 0.9855\n",
      "Epoch 73/150\n",
      "69/69 [==============================] - 0s 1ms/step - loss: 0.0366 - accuracy: 0.9855\n",
      "Epoch 74/150\n",
      "69/69 [==============================] - 0s 1ms/step - loss: 0.0367 - accuracy: 0.9855\n",
      "Epoch 75/150\n",
      "69/69 [==============================] - 0s 1ms/step - loss: 0.0367 - accuracy: 0.9855\n",
      "Epoch 76/150\n",
      "69/69 [==============================] - 0s 1ms/step - loss: 0.0622 - accuracy: 0.9754\n",
      "Epoch 77/150\n",
      "69/69 [==============================] - 0s 1ms/step - loss: 0.3005 - accuracy: 0.9072\n",
      "Epoch 78/150\n",
      "69/69 [==============================] - 0s 1ms/step - loss: 0.2185 - accuracy: 0.9203\n",
      "Epoch 79/150\n",
      "69/69 [==============================] - 0s 1ms/step - loss: 0.2871 - accuracy: 0.9101\n",
      "Epoch 80/150\n",
      "69/69 [==============================] - 0s 1ms/step - loss: 0.1232 - accuracy: 0.9580\n",
      "Epoch 81/150\n",
      "69/69 [==============================] - 0s 1ms/step - loss: 0.0580 - accuracy: 0.9754\n",
      "Epoch 82/150\n",
      "69/69 [==============================] - 0s 1ms/step - loss: 0.0647 - accuracy: 0.9768\n"
     ]
    },
    {
     "name": "stdout",
     "output_type": "stream",
     "text": [
      "Epoch 83/150\n",
      "69/69 [==============================] - 0s 1ms/step - loss: 0.0527 - accuracy: 0.9797\n",
      "Epoch 84/150\n",
      "69/69 [==============================] - 0s 994us/step - loss: 0.0596 - accuracy: 0.9797\n",
      "Epoch 85/150\n",
      "69/69 [==============================] - 0s 1ms/step - loss: 0.0787 - accuracy: 0.9667\n",
      "Epoch 86/150\n",
      "69/69 [==============================] - 0s 988us/step - loss: 0.0553 - accuracy: 0.9768\n",
      "Epoch 87/150\n",
      "69/69 [==============================] - 0s 996us/step - loss: 0.0456 - accuracy: 0.9826\n",
      "Epoch 88/150\n",
      "69/69 [==============================] - 0s 970us/step - loss: 0.0375 - accuracy: 0.9884\n",
      "Epoch 89/150\n",
      "69/69 [==============================] - 0s 997us/step - loss: 0.0355 - accuracy: 0.9884\n",
      "Epoch 90/150\n",
      "69/69 [==============================] - 0s 993us/step - loss: 0.0348 - accuracy: 0.9884\n",
      "Epoch 91/150\n",
      "69/69 [==============================] - 0s 982us/step - loss: 0.0344 - accuracy: 0.9884\n",
      "Epoch 92/150\n",
      "69/69 [==============================] - 0s 995us/step - loss: 0.0341 - accuracy: 0.9884\n",
      "Epoch 93/150\n",
      "69/69 [==============================] - 0s 1ms/step - loss: 0.0341 - accuracy: 0.9884\n",
      "Epoch 94/150\n",
      "69/69 [==============================] - 0s 1ms/step - loss: 0.0338 - accuracy: 0.9884\n",
      "Epoch 95/150\n",
      "69/69 [==============================] - 0s 979us/step - loss: 0.0328 - accuracy: 0.9884\n",
      "Epoch 96/150\n",
      "69/69 [==============================] - 0s 984us/step - loss: 0.0327 - accuracy: 0.9884\n",
      "Epoch 97/150\n",
      "69/69 [==============================] - 0s 1ms/step - loss: 0.0325 - accuracy: 0.9884\n",
      "Epoch 98/150\n",
      "69/69 [==============================] - 0s 978us/step - loss: 0.0326 - accuracy: 0.9884\n",
      "Epoch 99/150\n",
      "69/69 [==============================] - 0s 978us/step - loss: 0.0326 - accuracy: 0.9884\n",
      "Epoch 100/150\n",
      "69/69 [==============================] - 0s 980us/step - loss: 0.0329 - accuracy: 0.9884\n",
      "Epoch 101/150\n",
      "69/69 [==============================] - 0s 998us/step - loss: 0.0326 - accuracy: 0.9884\n",
      "Epoch 102/150\n",
      "69/69 [==============================] - 0s 1ms/step - loss: 0.0324 - accuracy: 0.9884\n",
      "Epoch 103/150\n",
      "69/69 [==============================] - 0s 984us/step - loss: 0.0354 - accuracy: 0.9870\n",
      "Epoch 104/150\n",
      "69/69 [==============================] - 0s 986us/step - loss: 0.1215 - accuracy: 0.9551\n",
      "Epoch 105/150\n",
      "69/69 [==============================] - 0s 1ms/step - loss: 0.2667 - accuracy: 0.9174\n",
      "Epoch 106/150\n",
      "69/69 [==============================] - 0s 1ms/step - loss: 0.1536 - accuracy: 0.9420\n",
      "Epoch 107/150\n",
      "69/69 [==============================] - 0s 1ms/step - loss: 0.1521 - accuracy: 0.9406\n",
      "Epoch 108/150\n",
      "69/69 [==============================] - 0s 988us/step - loss: 0.1520 - accuracy: 0.9449\n",
      "Epoch 109/150\n",
      "69/69 [==============================] - 0s 1ms/step - loss: 0.0620 - accuracy: 0.9768\n",
      "Epoch 110/150\n",
      "69/69 [==============================] - 0s 1ms/step - loss: 0.0568 - accuracy: 0.9754\n",
      "Epoch 111/150\n",
      "69/69 [==============================] - 0s 977us/step - loss: 0.0422 - accuracy: 0.9855\n",
      "Epoch 112/150\n",
      "69/69 [==============================] - 0s 988us/step - loss: 0.0587 - accuracy: 0.9725\n",
      "Epoch 113/150\n",
      "69/69 [==============================] - 0s 1ms/step - loss: 0.0417 - accuracy: 0.9841\n",
      "Epoch 114/150\n",
      "69/69 [==============================] - 0s 1ms/step - loss: 0.0399 - accuracy: 0.9855\n",
      "Epoch 115/150\n",
      "69/69 [==============================] - 0s 1ms/step - loss: 0.0398 - accuracy: 0.9855\n",
      "Epoch 116/150\n",
      "69/69 [==============================] - 0s 996us/step - loss: 0.0386 - accuracy: 0.9855\n",
      "Epoch 117/150\n",
      "69/69 [==============================] - 0s 978us/step - loss: 0.0430 - accuracy: 0.9855\n",
      "Epoch 118/150\n",
      "69/69 [==============================] - 0s 997us/step - loss: 0.0376 - accuracy: 0.9855\n",
      "Epoch 119/150\n",
      "69/69 [==============================] - 0s 995us/step - loss: 0.0420 - accuracy: 0.9841\n",
      "Epoch 120/150\n",
      "69/69 [==============================] - 0s 974us/step - loss: 0.0371 - accuracy: 0.9855\n",
      "Epoch 121/150\n",
      "69/69 [==============================] - 0s 998us/step - loss: 0.0373 - accuracy: 0.9855\n",
      "Epoch 122/150\n",
      "69/69 [==============================] - 0s 982us/step - loss: 0.0349 - accuracy: 0.9870\n",
      "Epoch 123/150\n",
      "69/69 [==============================] - 0s 975us/step - loss: 0.0348 - accuracy: 0.9870\n",
      "Epoch 124/150\n",
      "69/69 [==============================] - 0s 1ms/step - loss: 0.0355 - accuracy: 0.9870\n",
      "Epoch 125/150\n",
      "69/69 [==============================] - 0s 985us/step - loss: 0.0366 - accuracy: 0.9870\n",
      "Epoch 126/150\n",
      "69/69 [==============================] - 0s 958us/step - loss: 0.0364 - accuracy: 0.9855\n",
      "Epoch 127/150\n",
      "69/69 [==============================] - 0s 983us/step - loss: 0.0383 - accuracy: 0.9855\n",
      "Epoch 128/150\n",
      "69/69 [==============================] - 0s 995us/step - loss: 0.0953 - accuracy: 0.9652\n",
      "Epoch 129/150\n",
      "69/69 [==============================] - 0s 973us/step - loss: 0.1567 - accuracy: 0.9536\n",
      "Epoch 130/150\n",
      "69/69 [==============================] - 0s 966us/step - loss: 0.1255 - accuracy: 0.9464\n",
      "Epoch 131/150\n",
      "69/69 [==============================] - 0s 975us/step - loss: 0.1068 - accuracy: 0.9594\n",
      "Epoch 132/150\n",
      "69/69 [==============================] - 0s 976us/step - loss: 0.0531 - accuracy: 0.9797\n",
      "Epoch 133/150\n",
      "69/69 [==============================] - 0s 1ms/step - loss: 0.0519 - accuracy: 0.9812\n",
      "Epoch 134/150\n",
      "69/69 [==============================] - 0s 957us/step - loss: 0.0443 - accuracy: 0.9841\n",
      "Epoch 135/150\n",
      "69/69 [==============================] - 0s 965us/step - loss: 0.0400 - accuracy: 0.9841\n",
      "Epoch 136/150\n",
      "69/69 [==============================] - 0s 995us/step - loss: 0.0397 - accuracy: 0.9841\n",
      "Epoch 137/150\n",
      "69/69 [==============================] - 0s 983us/step - loss: 0.0394 - accuracy: 0.9841\n",
      "Epoch 138/150\n",
      "69/69 [==============================] - 0s 1ms/step - loss: 0.0389 - accuracy: 0.9841\n",
      "Epoch 139/150\n",
      "69/69 [==============================] - 0s 991us/step - loss: 0.0514 - accuracy: 0.9841\n",
      "Epoch 140/150\n",
      "69/69 [==============================] - 0s 973us/step - loss: 0.1120 - accuracy: 0.9609\n",
      "Epoch 141/150\n",
      "69/69 [==============================] - 0s 984us/step - loss: 0.0575 - accuracy: 0.9768\n",
      "Epoch 142/150\n",
      "69/69 [==============================] - 0s 987us/step - loss: 0.0915 - accuracy: 0.9652\n",
      "Epoch 143/150\n",
      "69/69 [==============================] - 0s 973us/step - loss: 0.0612 - accuracy: 0.9754\n",
      "Epoch 144/150\n",
      "69/69 [==============================] - 0s 989us/step - loss: 0.0846 - accuracy: 0.9681\n",
      "Epoch 145/150\n",
      "69/69 [==============================] - 0s 962us/step - loss: 0.0628 - accuracy: 0.9768\n",
      "Epoch 146/150\n",
      "69/69 [==============================] - 0s 989us/step - loss: 0.0555 - accuracy: 0.9768\n",
      "Epoch 147/150\n",
      "69/69 [==============================] - 0s 984us/step - loss: 0.0532 - accuracy: 0.9783\n",
      "Epoch 148/150\n",
      "69/69 [==============================] - 0s 984us/step - loss: 0.0680 - accuracy: 0.9783\n",
      "Epoch 149/150\n",
      "69/69 [==============================] - 0s 975us/step - loss: 0.0569 - accuracy: 0.9754\n",
      "Epoch 150/150\n",
      "69/69 [==============================] - 0s 991us/step - loss: 0.0410 - accuracy: 0.9884\n"
     ]
    },
    {
     "data": {
      "text/plain": [
       "<keras.callbacks.History at 0x7fd9c8627910>"
      ]
     },
     "execution_count": 13,
     "metadata": {},
     "output_type": "execute_result"
    }
   ],
   "source": [
    "model.fit(X_train,Y_train,epochs=150,batch_size=10)"
   ]
  },
  {
   "cell_type": "markdown",
   "metadata": {},
   "source": [
    "### Make Prediction"
   ]
  },
  {
   "cell_type": "markdown",
   "metadata": {},
   "source": [
    "Making predictions is as easy as calling model.predict(). We are using a sigmoid activation function on the output layer, so the predictions will be in the range between 0 and 1. We can easily convert them into a crisp binary prediction for this classification task by rounding them."
   ]
  },
  {
   "cell_type": "code",
   "execution_count": 14,
   "metadata": {},
   "outputs": [
    {
     "name": "stdout",
     "output_type": "stream",
     "text": [
      "[1.0, 0.0, 0.0, 1.0, 0.0, 0.0, 1.0, 0.0, 0.0, 0.0, 0.0, 0.0, 1.0, 1.0, 1.0, 0.0, 0.0, 1.0, 1.0, 0.0, 0.0, 1.0, 0.0, 0.0, 0.0, 0.0, 1.0, 1.0, 0.0, 0.0, 0.0, 0.0, 1.0, 1.0, 0.0, 0.0, 1.0, 0.0, 1.0, 0.0, 1.0, 0.0, 1.0, 0.0, 1.0, 0.0, 1.0, 0.0, 0.0, 0.0, 1.0, 0.0, 0.0, 0.0, 1.0, 1.0, 1.0, 0.0, 0.0, 0.0, 0.0, 0.0, 0.0, 0.0, 1.0, 0.0, 0.0, 0.0, 0.0, 1.0, 1.0, 0.0, 0.0, 0.0, 0.0, 1.0, 1.0]\n",
      "\n",
      "Accuracy:  0.7012987012987013\n"
     ]
    }
   ],
   "source": [
    "predictions = model.predict(X_test)\n",
    "round_predictions = [float(np.round(x)) for x in predictions]\n",
    "print(round_predictions)\n",
    "accuracy = np.mean(round_predictions == Y_test)\n",
    "print(\"\\nAccuracy: \", accuracy)"
   ]
  },
  {
   "cell_type": "markdown",
   "metadata": {},
   "source": [
    "Not bad for a quickly put together simple Neural Network. I'm sure with some trial and error with hyperparameters we can improve our test accuracy some more.\n",
    "\n"
   ]
  },
  {
   "cell_type": "code",
   "execution_count": null,
   "metadata": {},
   "outputs": [],
   "source": []
  }
 ],
 "metadata": {
  "kernelspec": {
   "display_name": "Python 3",
   "language": "python",
   "name": "python3"
  },
  "language_info": {
   "codemirror_mode": {
    "name": "ipython",
    "version": 3
   },
   "file_extension": ".py",
   "mimetype": "text/x-python",
   "name": "python",
   "nbconvert_exporter": "python",
   "pygments_lexer": "ipython3",
   "version": "3.8.12"
  }
 },
 "nbformat": 4,
 "nbformat_minor": 4
}
